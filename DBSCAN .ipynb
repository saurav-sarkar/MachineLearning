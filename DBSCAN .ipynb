{
 "cells": [
  {
   "cell_type": "markdown",
   "id": "47e649c7",
   "metadata": {},
   "source": [
    "# DBSCAN\n",
    "Density Based Spatial Clustering of Application with Noise"
   ]
  },
  {
   "cell_type": "code",
   "execution_count": 1,
   "id": "3c9a3370",
   "metadata": {},
   "outputs": [],
   "source": [
    "#Importing the libraries\n",
    "import numpy as np\n",
    "import pandas as pd\n",
    "import matplotlib.pyplot as plt\n",
    "import seaborn as sns\n",
    "from sklearn.preprocessing import StandardScaler\n",
    "from sklearn.neighbors import NearestNeighbors\n",
    "from sklearn.cluster import DBSCAN"
   ]
  },
  {
   "cell_type": "code",
   "execution_count": 2,
   "id": "be3acc43",
   "metadata": {},
   "outputs": [
    {
     "data": {
      "text/html": [
       "<div>\n",
       "<style scoped>\n",
       "    .dataframe tbody tr th:only-of-type {\n",
       "        vertical-align: middle;\n",
       "    }\n",
       "\n",
       "    .dataframe tbody tr th {\n",
       "        vertical-align: top;\n",
       "    }\n",
       "\n",
       "    .dataframe thead th {\n",
       "        text-align: right;\n",
       "    }\n",
       "</style>\n",
       "<table border=\"1\" class=\"dataframe\">\n",
       "  <thead>\n",
       "    <tr style=\"text-align: right;\">\n",
       "      <th></th>\n",
       "      <th>y</th>\n",
       "      <th>bill_length_mm</th>\n",
       "      <th>bill_depth_mm</th>\n",
       "      <th>flipper_length_mm</th>\n",
       "      <th>body_mass_g</th>\n",
       "    </tr>\n",
       "  </thead>\n",
       "  <tbody>\n",
       "    <tr>\n",
       "      <th>0</th>\n",
       "      <td>Adelie</td>\n",
       "      <td>39.1</td>\n",
       "      <td>18.7</td>\n",
       "      <td>181.0</td>\n",
       "      <td>3750.0</td>\n",
       "    </tr>\n",
       "    <tr>\n",
       "      <th>1</th>\n",
       "      <td>Adelie</td>\n",
       "      <td>39.5</td>\n",
       "      <td>17.4</td>\n",
       "      <td>186.0</td>\n",
       "      <td>3800.0</td>\n",
       "    </tr>\n",
       "    <tr>\n",
       "      <th>2</th>\n",
       "      <td>Adelie</td>\n",
       "      <td>40.3</td>\n",
       "      <td>18.0</td>\n",
       "      <td>195.0</td>\n",
       "      <td>3250.0</td>\n",
       "    </tr>\n",
       "    <tr>\n",
       "      <th>3</th>\n",
       "      <td>Adelie</td>\n",
       "      <td>36.7</td>\n",
       "      <td>19.3</td>\n",
       "      <td>193.0</td>\n",
       "      <td>3450.0</td>\n",
       "    </tr>\n",
       "    <tr>\n",
       "      <th>4</th>\n",
       "      <td>Adelie</td>\n",
       "      <td>39.3</td>\n",
       "      <td>20.6</td>\n",
       "      <td>190.0</td>\n",
       "      <td>3650.0</td>\n",
       "    </tr>\n",
       "  </tbody>\n",
       "</table>\n",
       "</div>"
      ],
      "text/plain": [
       "        y  bill_length_mm  bill_depth_mm  flipper_length_mm  body_mass_g\n",
       "0  Adelie            39.1           18.7              181.0       3750.0\n",
       "1  Adelie            39.5           17.4              186.0       3800.0\n",
       "2  Adelie            40.3           18.0              195.0       3250.0\n",
       "3  Adelie            36.7           19.3              193.0       3450.0\n",
       "4  Adelie            39.3           20.6              190.0       3650.0"
      ]
     },
     "execution_count": 2,
     "metadata": {},
     "output_type": "execute_result"
    }
   ],
   "source": [
    "#Reading the data\n",
    "df = pd.read_csv(r\"E:/Dataset/penguins.csv\")\n",
    "df.head()"
   ]
  },
  {
   "cell_type": "code",
   "execution_count": 3,
   "id": "96771841",
   "metadata": {},
   "outputs": [],
   "source": [
    "#Excluding Y variable and saving it into a new variable\n",
    "y=df.y"
   ]
  },
  {
   "cell_type": "code",
   "execution_count": 4,
   "id": "a4b2ea25",
   "metadata": {},
   "outputs": [
    {
     "data": {
      "text/html": [
       "<div>\n",
       "<style scoped>\n",
       "    .dataframe tbody tr th:only-of-type {\n",
       "        vertical-align: middle;\n",
       "    }\n",
       "\n",
       "    .dataframe tbody tr th {\n",
       "        vertical-align: top;\n",
       "    }\n",
       "\n",
       "    .dataframe thead th {\n",
       "        text-align: right;\n",
       "    }\n",
       "</style>\n",
       "<table border=\"1\" class=\"dataframe\">\n",
       "  <thead>\n",
       "    <tr style=\"text-align: right;\">\n",
       "      <th></th>\n",
       "      <th>bill_length_mm</th>\n",
       "      <th>bill_depth_mm</th>\n",
       "      <th>flipper_length_mm</th>\n",
       "      <th>body_mass_g</th>\n",
       "    </tr>\n",
       "  </thead>\n",
       "  <tbody>\n",
       "    <tr>\n",
       "      <th>0</th>\n",
       "      <td>39.1</td>\n",
       "      <td>18.7</td>\n",
       "      <td>181.0</td>\n",
       "      <td>3750.0</td>\n",
       "    </tr>\n",
       "    <tr>\n",
       "      <th>1</th>\n",
       "      <td>39.5</td>\n",
       "      <td>17.4</td>\n",
       "      <td>186.0</td>\n",
       "      <td>3800.0</td>\n",
       "    </tr>\n",
       "    <tr>\n",
       "      <th>2</th>\n",
       "      <td>40.3</td>\n",
       "      <td>18.0</td>\n",
       "      <td>195.0</td>\n",
       "      <td>3250.0</td>\n",
       "    </tr>\n",
       "    <tr>\n",
       "      <th>3</th>\n",
       "      <td>36.7</td>\n",
       "      <td>19.3</td>\n",
       "      <td>193.0</td>\n",
       "      <td>3450.0</td>\n",
       "    </tr>\n",
       "    <tr>\n",
       "      <th>4</th>\n",
       "      <td>39.3</td>\n",
       "      <td>20.6</td>\n",
       "      <td>190.0</td>\n",
       "      <td>3650.0</td>\n",
       "    </tr>\n",
       "    <tr>\n",
       "      <th>...</th>\n",
       "      <td>...</td>\n",
       "      <td>...</td>\n",
       "      <td>...</td>\n",
       "      <td>...</td>\n",
       "    </tr>\n",
       "    <tr>\n",
       "      <th>337</th>\n",
       "      <td>55.8</td>\n",
       "      <td>19.8</td>\n",
       "      <td>207.0</td>\n",
       "      <td>4000.0</td>\n",
       "    </tr>\n",
       "    <tr>\n",
       "      <th>338</th>\n",
       "      <td>43.5</td>\n",
       "      <td>18.1</td>\n",
       "      <td>202.0</td>\n",
       "      <td>3400.0</td>\n",
       "    </tr>\n",
       "    <tr>\n",
       "      <th>339</th>\n",
       "      <td>49.6</td>\n",
       "      <td>18.2</td>\n",
       "      <td>193.0</td>\n",
       "      <td>3775.0</td>\n",
       "    </tr>\n",
       "    <tr>\n",
       "      <th>340</th>\n",
       "      <td>50.8</td>\n",
       "      <td>19.0</td>\n",
       "      <td>210.0</td>\n",
       "      <td>4100.0</td>\n",
       "    </tr>\n",
       "    <tr>\n",
       "      <th>341</th>\n",
       "      <td>50.2</td>\n",
       "      <td>18.7</td>\n",
       "      <td>198.0</td>\n",
       "      <td>3775.0</td>\n",
       "    </tr>\n",
       "  </tbody>\n",
       "</table>\n",
       "<p>342 rows × 4 columns</p>\n",
       "</div>"
      ],
      "text/plain": [
       "     bill_length_mm  bill_depth_mm  flipper_length_mm  body_mass_g\n",
       "0              39.1           18.7              181.0       3750.0\n",
       "1              39.5           17.4              186.0       3800.0\n",
       "2              40.3           18.0              195.0       3250.0\n",
       "3              36.7           19.3              193.0       3450.0\n",
       "4              39.3           20.6              190.0       3650.0\n",
       "..              ...            ...                ...          ...\n",
       "337            55.8           19.8              207.0       4000.0\n",
       "338            43.5           18.1              202.0       3400.0\n",
       "339            49.6           18.2              193.0       3775.0\n",
       "340            50.8           19.0              210.0       4100.0\n",
       "341            50.2           18.7              198.0       3775.0\n",
       "\n",
       "[342 rows x 4 columns]"
      ]
     },
     "execution_count": 4,
     "metadata": {},
     "output_type": "execute_result"
    }
   ],
   "source": [
    "data = df.drop('y',axis=1) #col wise operation so axis = 1 and for row wise axis = 0\n",
    "data"
   ]
  },
  {
   "cell_type": "code",
   "execution_count": 5,
   "id": "1a93b929",
   "metadata": {},
   "outputs": [
    {
     "data": {
      "text/plain": [
       "array([[-0.88449874,  0.78544923, -1.41834665, -0.56414208],\n",
       "       [-0.81112573,  0.1261879 , -1.06225022, -0.50170305],\n",
       "       [-0.66437972,  0.43046236, -0.42127665, -1.18853234],\n",
       "       ...,\n",
       "       [ 1.04154272,  0.53188718, -0.56371522, -0.53292256],\n",
       "       [ 1.26166175,  0.93758646,  0.64701263, -0.1270689 ],\n",
       "       [ 1.15160224,  0.78544923, -0.20761879, -0.53292256]])"
      ]
     },
     "execution_count": 5,
     "metadata": {},
     "output_type": "execute_result"
    }
   ],
   "source": [
    "#Normalizing data in the scale of 0 to 1 using standard scaller\n",
    "data_scale = StandardScaler().fit_transform(data)\n",
    "data_scale"
   ]
  },
  {
   "cell_type": "code",
   "execution_count": 6,
   "id": "d15ce027",
   "metadata": {},
   "outputs": [
    {
     "data": {
      "text/html": [
       "<div>\n",
       "<style scoped>\n",
       "    .dataframe tbody tr th:only-of-type {\n",
       "        vertical-align: middle;\n",
       "    }\n",
       "\n",
       "    .dataframe tbody tr th {\n",
       "        vertical-align: top;\n",
       "    }\n",
       "\n",
       "    .dataframe thead th {\n",
       "        text-align: right;\n",
       "    }\n",
       "</style>\n",
       "<table border=\"1\" class=\"dataframe\">\n",
       "  <thead>\n",
       "    <tr style=\"text-align: right;\">\n",
       "      <th></th>\n",
       "      <th>bill_length_mm</th>\n",
       "      <th>bill_depth_mm</th>\n",
       "      <th>flipper_length_mm</th>\n",
       "      <th>body_mass_g</th>\n",
       "    </tr>\n",
       "  </thead>\n",
       "  <tbody>\n",
       "    <tr>\n",
       "      <th>0</th>\n",
       "      <td>-0.884499</td>\n",
       "      <td>0.785449</td>\n",
       "      <td>-1.418347</td>\n",
       "      <td>-0.564142</td>\n",
       "    </tr>\n",
       "    <tr>\n",
       "      <th>1</th>\n",
       "      <td>-0.811126</td>\n",
       "      <td>0.126188</td>\n",
       "      <td>-1.062250</td>\n",
       "      <td>-0.501703</td>\n",
       "    </tr>\n",
       "    <tr>\n",
       "      <th>2</th>\n",
       "      <td>-0.664380</td>\n",
       "      <td>0.430462</td>\n",
       "      <td>-0.421277</td>\n",
       "      <td>-1.188532</td>\n",
       "    </tr>\n",
       "    <tr>\n",
       "      <th>3</th>\n",
       "      <td>-1.324737</td>\n",
       "      <td>1.089724</td>\n",
       "      <td>-0.563715</td>\n",
       "      <td>-0.938776</td>\n",
       "    </tr>\n",
       "    <tr>\n",
       "      <th>4</th>\n",
       "      <td>-0.847812</td>\n",
       "      <td>1.748985</td>\n",
       "      <td>-0.777373</td>\n",
       "      <td>-0.689020</td>\n",
       "    </tr>\n",
       "    <tr>\n",
       "      <th>...</th>\n",
       "      <td>...</td>\n",
       "      <td>...</td>\n",
       "      <td>...</td>\n",
       "      <td>...</td>\n",
       "    </tr>\n",
       "    <tr>\n",
       "      <th>337</th>\n",
       "      <td>2.178824</td>\n",
       "      <td>1.343286</td>\n",
       "      <td>0.433355</td>\n",
       "      <td>-0.251947</td>\n",
       "    </tr>\n",
       "    <tr>\n",
       "      <th>338</th>\n",
       "      <td>-0.077396</td>\n",
       "      <td>0.481175</td>\n",
       "      <td>0.077258</td>\n",
       "      <td>-1.001215</td>\n",
       "    </tr>\n",
       "    <tr>\n",
       "      <th>339</th>\n",
       "      <td>1.041543</td>\n",
       "      <td>0.531887</td>\n",
       "      <td>-0.563715</td>\n",
       "      <td>-0.532923</td>\n",
       "    </tr>\n",
       "    <tr>\n",
       "      <th>340</th>\n",
       "      <td>1.261662</td>\n",
       "      <td>0.937586</td>\n",
       "      <td>0.647013</td>\n",
       "      <td>-0.127069</td>\n",
       "    </tr>\n",
       "    <tr>\n",
       "      <th>341</th>\n",
       "      <td>1.151602</td>\n",
       "      <td>0.785449</td>\n",
       "      <td>-0.207619</td>\n",
       "      <td>-0.532923</td>\n",
       "    </tr>\n",
       "  </tbody>\n",
       "</table>\n",
       "<p>342 rows × 4 columns</p>\n",
       "</div>"
      ],
      "text/plain": [
       "     bill_length_mm  bill_depth_mm  flipper_length_mm  body_mass_g\n",
       "0         -0.884499       0.785449          -1.418347    -0.564142\n",
       "1         -0.811126       0.126188          -1.062250    -0.501703\n",
       "2         -0.664380       0.430462          -0.421277    -1.188532\n",
       "3         -1.324737       1.089724          -0.563715    -0.938776\n",
       "4         -0.847812       1.748985          -0.777373    -0.689020\n",
       "..              ...            ...                ...          ...\n",
       "337        2.178824       1.343286           0.433355    -0.251947\n",
       "338       -0.077396       0.481175           0.077258    -1.001215\n",
       "339        1.041543       0.531887          -0.563715    -0.532923\n",
       "340        1.261662       0.937586           0.647013    -0.127069\n",
       "341        1.151602       0.785449          -0.207619    -0.532923\n",
       "\n",
       "[342 rows x 4 columns]"
      ]
     },
     "execution_count": 6,
     "metadata": {},
     "output_type": "execute_result"
    }
   ],
   "source": [
    "#Converting into dataframes with column names\n",
    "df_scaled = pd.DataFrame(data_scale,columns=data.columns)\n",
    "df_scaled"
   ]
  },
  {
   "cell_type": "code",
   "execution_count": 7,
   "id": "5525cb0d",
   "metadata": {},
   "outputs": [],
   "source": [
    "#Applying KNN for finding Eps value when k=7 \n",
    "knn = NearestNeighbors(n_neighbors=7)"
   ]
  },
  {
   "cell_type": "code",
   "execution_count": 8,
   "id": "61787191",
   "metadata": {},
   "outputs": [
    {
     "data": {
      "text/plain": [
       "NearestNeighbors(n_neighbors=7)"
      ]
     },
     "execution_count": 8,
     "metadata": {},
     "output_type": "execute_result"
    }
   ],
   "source": [
    "#fitting the model into dataset\n",
    "knn.fit(df_scaled)"
   ]
  },
  {
   "cell_type": "code",
   "execution_count": 9,
   "id": "f57983ef",
   "metadata": {},
   "outputs": [],
   "source": [
    "#finding the closest neighbours,i.e distance and index values\n",
    "dist, ind = knn.kneighbors(df_scaled)"
   ]
  },
  {
   "cell_type": "code",
   "execution_count": 10,
   "id": "945197f6",
   "metadata": {},
   "outputs": [
    {
     "data": {
      "text/plain": [
       "array([[0.        , 0.31158625, 0.32574369, ..., 0.37905985, 0.40118008,\n",
       "        0.44726081],\n",
       "       [0.        , 0.3293166 , 0.40476285, ..., 0.43064932, 0.45757293,\n",
       "        0.4698828 ],\n",
       "       [0.        , 0.24381594, 0.44607676, ..., 0.51383318, 0.53315773,\n",
       "        0.55270967],\n",
       "       ...,\n",
       "       [0.        , 0.33095534, 0.375838  , ..., 0.42352201, 0.45078984,\n",
       "        0.54452304],\n",
       "       [0.        , 0.45650769, 0.47037203, ..., 0.53316758, 0.6154575 ,\n",
       "        0.67679236],\n",
       "       [0.        , 0.24677198, 0.29103504, ..., 0.33324769, 0.3960698 ,\n",
       "        0.40620936]])"
      ]
     },
     "execution_count": 10,
     "metadata": {},
     "output_type": "execute_result"
    }
   ],
   "source": [
    "dist\n",
    "#distance of the data points"
   ]
  },
  {
   "cell_type": "code",
   "execution_count": 11,
   "id": "4568e208",
   "metadata": {},
   "outputs": [
    {
     "data": {
      "text/plain": [
       "array([[0.        , 0.10899102, 0.16500734, ..., 0.28252037, 0.31582032,\n",
       "        0.33391703],\n",
       "       [0.        , 0.10899102, 0.1890637 , ..., 0.29253219, 0.32446103,\n",
       "        0.334381  ],\n",
       "       [0.        , 0.10899102, 0.19609952, ..., 0.29658362, 0.32507647,\n",
       "        0.33646422],\n",
       "       ...,\n",
       "       [0.        , 0.89258729, 0.9699639 , ..., 1.02128551, 1.19990352,\n",
       "        1.2391979 ],\n",
       "       [0.        , 0.91089814, 1.00045721, ..., 1.51080591, 1.58879383,\n",
       "        1.65807429],\n",
       "       [0.        , 1.45887147, 1.62902101, ..., 1.66883851, 1.68551427,\n",
       "        1.6893674 ]])"
      ]
     },
     "execution_count": 11,
     "metadata": {},
     "output_type": "execute_result"
    }
   ],
   "source": [
    "#finding the min distances first by sorting the distances\n",
    "dist = np.sort(dist,axis=0)\n",
    "dist"
   ]
  },
  {
   "cell_type": "code",
   "execution_count": 12,
   "id": "85d0812a",
   "metadata": {},
   "outputs": [],
   "source": [
    "dist= dist[:,1] #All rows and first col using indexing"
   ]
  },
  {
   "cell_type": "code",
   "execution_count": 20,
   "id": "86304208",
   "metadata": {},
   "outputs": [
    {
     "data": {
      "text/plain": [
       "<matplotlib.lines.Line2D at 0x156b037da90>"
      ]
     },
     "execution_count": 20,
     "metadata": {},
     "output_type": "execute_result"
    },
    {
     "data": {
      "image/png": "[encoded data removed]",
      "text/plain": [
       "<Figure size 432x288 with 1 Axes>"
      ]
     },
     "metadata": {
      "needs_background": "light"
     },
     "output_type": "display_data"
    }
   ],
   "source": [
    "plt.plot(dist)\n",
    "plt.grid(axis='y')\n",
    "plt.axhline(y=0.6, color='green',ls='-.')"
   ]
  },
  {
   "cell_type": "markdown",
   "id": "305ea81a",
   "metadata": {},
   "source": [
    "From the above graph we got an Eps value = 0.6(bending point),when the min points are 7"
   ]
  },
  {
   "cell_type": "code",
   "execution_count": 17,
   "id": "fb79f976",
   "metadata": {},
   "outputs": [],
   "source": [
    "#Lets train DBSCAN \n",
    "dbscan = DBSCAN(eps=0.6,min_samples=7)"
   ]
  },
  {
   "cell_type": "code",
   "execution_count": 18,
   "id": "24eb5673",
   "metadata": {},
   "outputs": [
    {
     "data": {
      "text/plain": [
       "DBSCAN(eps=0.6, min_samples=7)"
      ]
     },
     "execution_count": 18,
     "metadata": {},
     "output_type": "execute_result"
    }
   ],
   "source": [
    "dbscan.fit(df_scaled)"
   ]
  },
  {
   "cell_type": "code",
   "execution_count": 24,
   "id": "c5a8525a",
   "metadata": {},
   "outputs": [
    {
     "name": "stderr",
     "output_type": "stream",
     "text": [
      "C:\\Users\\dell\\anaconda3\\lib\\site-packages\\seaborn\\_decorators.py:36: FutureWarning: Pass the following variables as keyword args: x, y. From version 0.12, the only valid positional argument will be `data`, and passing other arguments without an explicit keyword will result in an error or misinterpretation.\n",
      "  warnings.warn(\n"
     ]
    },
    {
     "data": {
      "text/plain": [
       "<AxesSubplot:xlabel='bill_length_mm', ylabel='bill_depth_mm'>"
      ]
     },
     "execution_count": 24,
     "metadata": {},
     "output_type": "execute_result"
    },
    {
     "data": {
      "image/png": "[encoded data removed]",
      "text/plain": [
       "<Figure size 432x288 with 1 Axes>"
      ]
     },
     "metadata": {
      "needs_background": "light"
     },
     "output_type": "display_data"
    }
   ],
   "source": [
    "#visualizing the clusters and including Y variable \n",
    "sns.scatterplot(df_scaled['bill_length_mm'],df_scaled['bill_depth_mm'],hue=y,style=dbscan.labels_) \n"
   ]
  },
  {
   "cell_type": "code",
   "execution_count": null,
   "id": "c8d6fd3e",
   "metadata": {},
   "outputs": [],
   "source": []
  }
 ],
 "metadata": {
  "kernelspec": {
   "display_name": "Python 3 (ipykernel)",
   "language": "python",
   "name": "python3"
  },
  "language_info": {
   "codemirror_mode": {
    "name": "ipython",
    "version": 3
   },
   "file_extension": ".py",
   "mimetype": "text/x-python",
   "name": "python",
   "nbconvert_exporter": "python",
   "pygments_lexer": "ipython3",
   "version": "3.9.12"
  }
 },
 "nbformat": 4,
 "nbformat_minor": 5
}
