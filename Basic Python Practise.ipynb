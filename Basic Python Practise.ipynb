{
 "cells": [
  {
   "cell_type": "code",
   "execution_count": 1,
   "id": "c472a0f2",
   "metadata": {},
   "outputs": [],
   "source": [
    "i = [4,7,8,9]"
   ]
  },
  {
   "cell_type": "code",
   "execution_count": 2,
   "id": "a7e81a61",
   "metadata": {},
   "outputs": [],
   "source": [
    "l = list(set(i))"
   ]
  },
  {
   "cell_type": "code",
   "execution_count": 3,
   "id": "47e1c2fc",
   "metadata": {},
   "outputs": [],
   "source": [
    "l.sort()"
   ]
  },
  {
   "cell_type": "code",
   "execution_count": 4,
   "id": "4b3f4594",
   "metadata": {},
   "outputs": [
    {
     "data": {
      "text/plain": [
       "8"
      ]
     },
     "execution_count": 4,
     "metadata": {},
     "output_type": "execute_result"
    }
   ],
   "source": [
    "l[-2]"
   ]
  },
  {
   "cell_type": "code",
   "execution_count": 8,
   "id": "439f417c",
   "metadata": {},
   "outputs": [
    {
     "name": "stdout",
     "output_type": "stream",
     "text": [
      "<function <lambda> at 0x000001DE4716FEE0>\n"
     ]
    }
   ],
   "source": [
    "x = lambda p : l.sort()[-2]\n",
    "print(x)"
   ]
  },
  {
   "cell_type": "code",
   "execution_count": 9,
   "id": "cef2209d",
   "metadata": {},
   "outputs": [],
   "source": [
    "keys = [\"a\",\"b\",\"c\"]\n",
    "values = [1,2,3]\n",
    "\n",
    "hen = {'a':1,'b':2,'c':3}"
   ]
  },
  {
   "cell_type": "code",
   "execution_count": 10,
   "id": "a6453ab3",
   "metadata": {},
   "outputs": [
    {
     "data": {
      "text/plain": [
       "{'a': 1, 'b': 2, 'c': 3}"
      ]
     },
     "execution_count": 10,
     "metadata": {},
     "output_type": "execute_result"
    }
   ],
   "source": [
    "hen"
   ]
  },
  {
   "cell_type": "code",
   "execution_count": 14,
   "id": "cf9bcae7",
   "metadata": {},
   "outputs": [
    {
     "ename": "IndentationError",
     "evalue": "unexpected indent (46531441.py, line 4)",
     "output_type": "error",
     "traceback": [
      "\u001b[1;36m  Input \u001b[1;32mIn [14]\u001b[1;36m\u001b[0m\n\u001b[1;33m    return dictionary\u001b[0m\n\u001b[1;37m    ^\u001b[0m\n\u001b[1;31mIndentationError\u001b[0m\u001b[1;31m:\u001b[0m unexpected indent\n"
     ]
    }
   ],
   "source": [
    "dictionary = {}\n",
    "for i in range(len(keys)):\n",
    "    dictionary[keys[i]] = values[i]\n",
    "    return dictionary"
   ]
  },
  {
   "cell_type": "code",
   "execution_count": 25,
   "id": "54694e8e",
   "metadata": {},
   "outputs": [
    {
     "name": "stdout",
     "output_type": "stream",
     "text": [
      "15\n",
      "['a', 'e', 'i', 'o', 'u', 'a', 'e', 'i', 'o', 'u', 'a', 'e', 'i', 'o', 'u']\n",
      "None\n"
     ]
    }
   ],
   "source": [
    "words = [\"hello\",\"apple\",\"elephant\"]\n",
    "\n",
    "vo = \"aeiou\"\n",
    "\n",
    "def check(words,vo):\n",
    "    final = [each for each in words for each in vo]\n",
    "    print(len(final))\n",
    "    print(final)\n",
    "    \n",
    "print(check(words,vo))"
   ]
  },
  {
   "cell_type": "code",
   "execution_count": 27,
   "id": "621489a5",
   "metadata": {},
   "outputs": [],
   "source": [
    "words = [\"hello\",\"apple\",\"elephant\",\"mangoes\"]\n",
    "\n",
    "def fd(words):\n",
    "    filtered_words = []\n",
    "    for word in words:\n",
    "        if len_words != 6:\n",
    "            filtered_words.append(words)\n",
    "    return fd"
   ]
  },
  {
   "cell_type": "code",
   "execution_count": 37,
   "id": "b8c08d0c",
   "metadata": {},
   "outputs": [
    {
     "name": "stdout",
     "output_type": "stream",
     "text": [
      "bob:40\n"
     ]
    }
   ],
   "source": [
    "#max age out\n",
    "\n",
    "a = [(\"bob:40\"),(\"shan:56\"),(\"ron:25\"),(\"jk:26\")]\n",
    "\n",
    "res = max(a, key = lambda x:x[1])\n",
    "\n",
    "print(res)"
   ]
  },
  {
   "cell_type": "code",
   "execution_count": 44,
   "id": "8fb5266e",
   "metadata": {},
   "outputs": [
    {
     "name": "stdout",
     "output_type": "stream",
     "text": [
      "[2, 6, 8]\n"
     ]
    }
   ],
   "source": [
    "#find the missing elem\n",
    "\n",
    "arr = [1,3,4,5,7,9,10]\n",
    "missing_elements = []\n",
    "for ele in range(arr[0], arr[-1]+1):\n",
    "    if ele not in arr:\n",
    "        missing_elements.append(ele)\n",
    "print(missing_elements)"
   ]
  },
  {
   "cell_type": "code",
   "execution_count": 50,
   "id": "0e7c03c5",
   "metadata": {},
   "outputs": [
    {
     "name": "stdout",
     "output_type": "stream",
     "text": [
      "[ 4 10 18]\n"
     ]
    }
   ],
   "source": [
    "#multiply x and y list\n",
    "import numpy as nmp\n",
    "list = [1,2,3]\n",
    "list1 = [4,5,6]\n",
    "\n",
    "mul = nmp.multiply(list,list1)\n",
    "print(mul)\n",
    "\n",
    "# for z in list:\n",
    "#     y *= list\n",
    "# print(y)"
   ]
  },
  {
   "cell_type": "code",
   "execution_count": 55,
   "id": "207859d3",
   "metadata": {},
   "outputs": [
    {
     "name": "stdout",
     "output_type": "stream",
     "text": [
      "The factorial of 5 is : 120\n"
     ]
    }
   ],
   "source": [
    "#Factorial of a number \n",
    "import math\n",
    " \n",
    "print(\"The factorial of 5 is : \", end=\"\")\n",
    "print(math.factorial(5))"
   ]
  },
  {
   "cell_type": "code",
   "execution_count": null,
   "id": "05f70db2",
   "metadata": {},
   "outputs": [],
   "source": []
  }
 ],
 "metadata": {
  "kernelspec": {
   "display_name": "Python 3 (ipykernel)",
   "language": "python",
   "name": "python3"
  },
  "language_info": {
   "codemirror_mode": {
    "name": "ipython",
    "version": 3
   },
   "file_extension": ".py",
   "mimetype": "text/x-python",
   "name": "python",
   "nbconvert_exporter": "python",
   "pygments_lexer": "ipython3",
   "version": "3.9.12"
  }
 },
 "nbformat": 4,
 "nbformat_minor": 5
}
