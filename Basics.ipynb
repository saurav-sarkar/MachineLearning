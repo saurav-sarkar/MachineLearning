{
 "cells": [
  {
   "cell_type": "markdown",
   "id": "f5ee28bd",
   "metadata": {},
   "source": [
    "Factorial: This Python program uses a recursive function to calculate the factorial of a given number. The factorial is computed by multiplying the number with the factorial of its preceding number."
   ]
  },
  {
   "cell_type": "code",
   "execution_count": 18,
   "id": "0db682c4",
   "metadata": {},
   "outputs": [
    {
     "name": "stdout",
     "output_type": "stream",
     "text": [
      "10\n",
      "Factorial of n is: 3628800\n"
     ]
    }
   ],
   "source": [
    "def fact(n):\n",
    "    return 1 if(n==1 or n==0) else n * fact(n-1)\n",
    "num = int(input())\n",
    "print(\"Factorial of n is:\", fact(num))"
   ]
  },
  {
   "cell_type": "markdown",
   "id": "e6660c21",
   "metadata": {},
   "source": [
    "Python Program to Print all Prime Numbers in an Interval"
   ]
  },
  {
   "cell_type": "code",
   "execution_count": 48,
   "id": "62ca8665",
   "metadata": {},
   "outputs": [
    {
     "name": "stdout",
     "output_type": "stream",
     "text": [
      "20\n",
      "2\n",
      "3\n",
      "5\n",
      "7\n",
      "11\n",
      "13\n",
      "17\n",
      "19\n"
     ]
    }
   ],
   "source": [
    "n = int(input())\n",
    "\n",
    "for number in range(2,n):\n",
    "    if number > 1:\n",
    "        for j in range(2,number):\n",
    "            if(number%j==0):\n",
    "                break\n",
    "        else:\n",
    "            print(number)"
   ]
  },
  {
   "cell_type": "markdown",
   "id": "83af592f",
   "metadata": {},
   "source": [
    "Fibonacci sequence: In mathematics, the Fibonacci sequence is a sequence in which each number is the sum of the two preceding ones. Numbers that are part of the Fibonacci sequence are known as Fibonacci numbers"
   ]
  },
  {
   "cell_type": "code",
   "execution_count": 21,
   "id": "1471d365",
   "metadata": {},
   "outputs": [
    {
     "name": "stdout",
     "output_type": "stream",
     "text": [
      "10\n",
      "[0, 1, 1, 2, 3, 5, 8, 13, 21, 34]\n"
     ]
    }
   ],
   "source": [
    "def fib(n):\n",
    "    series = []\n",
    "    a,b = 0,1\n",
    "    for i in range(n):\n",
    "        series.append(a)\n",
    "        a,b = b,a + b\n",
    "    return series\n",
    "enter = int(input())\n",
    "series = fib(enter)\n",
    "print(series)"
   ]
  },
  {
   "cell_type": "markdown",
   "id": "7cc212f7",
   "metadata": {},
   "source": [
    "Palindrome"
   ]
  },
  {
   "cell_type": "code",
   "execution_count": 22,
   "id": "8b16c419",
   "metadata": {},
   "outputs": [
    {
     "name": "stdout",
     "output_type": "stream",
     "text": [
      "11\n",
      "Yes\n"
     ]
    }
   ],
   "source": [
    "def palin(n):\n",
    "    return str(n) == ''.join(reversed(str(n)))\n",
    "\n",
    "n = int(input())\n",
    "if palin(n):\n",
    "    print(\"Yes\")"
   ]
  },
  {
   "cell_type": "code",
   "execution_count": null,
   "id": "69559ac0",
   "metadata": {},
   "outputs": [],
   "source": []
  },
  {
   "cell_type": "markdown",
   "id": "72c75de2",
   "metadata": {},
   "source": [
    "check element of list which is greater python"
   ]
  },
  {
   "cell_type": "raw",
   "id": "c902c7ad",
   "metadata": {},
   "source": [
    "li = []\n",
    "\n",
    "n = int(input(\"Enter the number of elements: \"))\n",
    "for i in range(n):\n",
    "    ele = int(input(\"Enter element: \"))\n",
    "    li.append(ele)\n",
    "\n",
    "print(\"List:\", li)"
   ]
  },
  {
   "cell_type": "code",
   "execution_count": 30,
   "id": "8d161241",
   "metadata": {},
   "outputs": [
    {
     "name": "stdout",
     "output_type": "stream",
     "text": [
      "[4, 5, 6, 3, 2]\n"
     ]
    }
   ],
   "source": [
    "li = [4,5,6,3,2,1]\n",
    "i = 1\n",
    "greator = [x for x in li if x>i]\n",
    "print(greator)"
   ]
  },
  {
   "cell_type": "markdown",
   "id": "ef0dcc44",
   "metadata": {},
   "source": [
    "Armstrong Number"
   ]
  },
  {
   "cell_type": "code",
   "execution_count": 34,
   "id": "dada43cc",
   "metadata": {},
   "outputs": [
    {
     "name": "stdout",
     "output_type": "stream",
     "text": [
      "153\n",
      "yes\n"
     ]
    }
   ],
   "source": [
    "num = int(input())\n",
    "sum = 0\n",
    "temp = num\n",
    "while temp > 0:\n",
    "    digit = temp%10\n",
    "    sum += digit**3\n",
    "    temp //= 10\n",
    "if num == sum:\n",
    "    print(\"yes\")"
   ]
  },
  {
   "cell_type": "code",
   "execution_count": null,
   "id": "d79d21e8",
   "metadata": {},
   "outputs": [],
   "source": []
  },
  {
   "cell_type": "markdown",
   "id": "5d6167b1",
   "metadata": {},
   "source": [
    "Sum of natural number"
   ]
  },
  {
   "cell_type": "code",
   "execution_count": 35,
   "id": "ed0b74ea",
   "metadata": {},
   "outputs": [
    {
     "name": "stdout",
     "output_type": "stream",
     "text": [
      "15\n",
      "11781\n"
     ]
    }
   ],
   "source": [
    "enter = int(input())\n",
    "if num<0:\n",
    "    print(\"Enter positive number\")\n",
    "else:\n",
    "    sum = 0\n",
    "    while(num>0):\n",
    "        sum += num\n",
    "        num -= 1\n",
    "    print(sum)\n"
   ]
  },
  {
   "cell_type": "code",
   "execution_count": null,
   "id": "ce98c4ca",
   "metadata": {},
   "outputs": [],
   "source": []
  },
  {
   "cell_type": "markdown",
   "id": "27543b87",
   "metadata": {},
   "source": [
    "Pyramid"
   ]
  },
  {
   "cell_type": "code",
   "execution_count": 37,
   "id": "58c2b2ba",
   "metadata": {},
   "outputs": [
    {
     "name": "stdout",
     "output_type": "stream",
     "text": [
      "Enter the number of rows for the pyramid: 5\n",
      "    *\n",
      "   ***\n",
      "  *****\n",
      " *******\n",
      "*********\n"
     ]
    }
   ],
   "source": [
    "def pyramid(rows):\n",
    "    for i in range(rows):\n",
    "        print(\" \"*(rows-i-1)+\"*\"*(2*i+1))\n",
    "num_rows = int(input(\"Enter the number of rows for the pyramid: \"))\n",
    "pyramid(num_rows)"
   ]
  },
  {
   "cell_type": "markdown",
   "id": "8c1316b5",
   "metadata": {},
   "source": [
    "Triangle"
   ]
  },
  {
   "cell_type": "code",
   "execution_count": 42,
   "id": "f78c330d",
   "metadata": {},
   "outputs": [
    {
     "name": "stdout",
     "output_type": "stream",
     "text": [
      "*\n",
      "**\n",
      "***\n",
      "****\n",
      "*****\n"
     ]
    }
   ],
   "source": [
    "def triangle(rows):\n",
    "    for i in range(1, rows + 1):\n",
    "        print(\"*\" * i)\n",
    "triangle(5)"
   ]
  },
  {
   "cell_type": "code",
   "execution_count": null,
   "id": "ad5c229c",
   "metadata": {},
   "outputs": [],
   "source": []
  },
  {
   "cell_type": "raw",
   "id": "2743db94",
   "metadata": {},
   "source": [
    "Write a Python program that removes vowels\n",
    "from a string"
   ]
  },
  {
   "cell_type": "code",
   "execution_count": 2,
   "id": "d7160ee0",
   "metadata": {},
   "outputs": [
    {
     "name": "stdout",
     "output_type": "stream",
     "text": [
      "Hello ther\n",
      "Hll thr\n"
     ]
    }
   ],
   "source": [
    "def rem(string):\n",
    "    vowels = 'aeiouAIOU'\n",
    "    removed =''.join(i for i in string if i not in vowels)\n",
    "    return removed\n",
    "enter = input()\n",
    "result = rem(enter)\n",
    "print(result)"
   ]
  },
  {
   "cell_type": "code",
   "execution_count": null,
   "id": "642e9546",
   "metadata": {},
   "outputs": [],
   "source": []
  },
  {
   "cell_type": "raw",
   "id": "64107006",
   "metadata": {},
   "source": [
    "Write a Python program that rotates an array by\n",
    "two positions to the right."
   ]
  },
  {
   "cell_type": "code",
   "execution_count": 5,
   "id": "a6419357",
   "metadata": {},
   "outputs": [
    {
     "name": "stdout",
     "output_type": "stream",
     "text": [
      "[1, 2, 4, 5]\n"
     ]
    }
   ],
   "source": [
    "def todo(arr):\n",
    "    n = len(arr)\n",
    "    move = arr[-2:] + arr[:-2]\n",
    "    return move\n",
    "input_arr = [4,5,1,2]\n",
    "print(todo(input_arr))"
   ]
  },
  {
   "cell_type": "code",
   "execution_count": null,
   "id": "b6fbcd9d",
   "metadata": {},
   "outputs": [],
   "source": []
  },
  {
   "cell_type": "raw",
   "id": "0525cf9b",
   "metadata": {},
   "source": [
    "Write a Python code to find all nonrepeating\n",
    "characters in the String"
   ]
  },
  {
   "cell_type": "code",
   "execution_count": 20,
   "id": "887fd6ec",
   "metadata": {},
   "outputs": [
    {
     "name": "stdout",
     "output_type": "stream",
     "text": [
      "hello\n",
      "h\n",
      "e\n",
      "o\n"
     ]
    }
   ],
   "source": [
    "enter = input()\n",
    "for i in enter:\n",
    "    count = 0\n",
    "    for j in enter:\n",
    "        if i == j:\n",
    "            count+=1\n",
    "        if count>1:\n",
    "            break\n",
    "    if count ==1:\n",
    "        print(i)"
   ]
  },
  {
   "cell_type": "code",
   "execution_count": null,
   "id": "3b9f9606",
   "metadata": {},
   "outputs": [],
   "source": []
  },
  {
   "cell_type": "raw",
   "id": "79532906",
   "metadata": {},
   "source": [
    "Write a Python program to calculate the power\n",
    "using ‘while-loop’"
   ]
  },
  {
   "cell_type": "code",
   "execution_count": 21,
   "id": "53059db9",
   "metadata": {},
   "outputs": [
    {
     "name": "stdout",
     "output_type": "stream",
     "text": [
      "3\n",
      "9\n",
      "27\n"
     ]
    }
   ],
   "source": [
    "base = 3\n",
    "exponent = 3\n",
    "result = 1\n",
    "\n",
    "while exponent!=0:\n",
    "    result*=base\n",
    "    exponent-=1\n",
    "    print(result)"
   ]
  },
  {
   "cell_type": "code",
   "execution_count": 23,
   "id": "e6760d28",
   "metadata": {},
   "outputs": [
    {
     "name": "stdout",
     "output_type": "stream",
     "text": [
      "3\n",
      "9\n",
      "27\n"
     ]
    }
   ],
   "source": [
    "base = 3\n",
    "exponent = 3\n",
    "result = 1\n",
    "\n",
    "for exponent in range(exponent,0,-1):\n",
    "    result*=base\n",
    "    print(result)"
   ]
  },
  {
   "cell_type": "code",
   "execution_count": null,
   "id": "85c638e6",
   "metadata": {},
   "outputs": [],
   "source": []
  },
  {
   "cell_type": "raw",
   "id": "2ca3cf79",
   "metadata": {},
   "source": [
    "Write a program to check and return the pairs of a\n",
    "given array A whose sum value is equal to a target\n",
    "value N"
   ]
  },
  {
   "cell_type": "code",
   "execution_count": 26,
   "id": "7eb513c6",
   "metadata": {},
   "outputs": [
    {
     "name": "stdout",
     "output_type": "stream",
     "text": [
      "[(1, 6), (2, 5), (3, 4)]\n"
     ]
    }
   ],
   "source": [
    "def hello(arr,target):\n",
    "    pairs = []\n",
    "    for i in range(len(arr)):\n",
    "        for j in range(i+1,len(arr)):\n",
    "            if arr[i] + arr[j] == target:\n",
    "                pairs.append((arr[i],arr[j]))\n",
    "    return pairs\n",
    "enter = [1, 2, 3, 4, 5, 6]\n",
    "target = 7\n",
    "result = hello(enter,target)\n",
    "print(result)"
   ]
  },
  {
   "cell_type": "raw",
   "id": "f167bcab",
   "metadata": {},
   "source": [
    "Write a Program to convert date from yyyy-mm-dd\n",
    "format to dd-mm-yyyy format using regular\n",
    "expression."
   ]
  },
  {
   "cell_type": "code",
   "execution_count": 27,
   "id": "d5b12935",
   "metadata": {},
   "outputs": [
    {
     "name": "stdout",
     "output_type": "stream",
     "text": [
      "01,04,24\n"
     ]
    }
   ],
   "source": [
    "from datetime import datetime\n",
    "def conv(input_data):\n",
    "    parse = datetime.strptime(input_data, '%Y-%m-%d')\n",
    "    converting = parse.strftime('%d,%m,%y')\n",
    "    return converting\n",
    "input_data = \"2024-04-1\"\n",
    "result = conv(input_data)\n",
    "print(result)"
   ]
  },
  {
   "cell_type": "raw",
   "id": "c5e24512",
   "metadata": {},
   "source": [
    "Write a Program to combine two different\n",
    "dictionaries. While combining, if you find the same\n",
    "keys, you can add the values of these same keys.\n",
    "Output the new dictionary"
   ]
  },
  {
   "cell_type": "code",
   "execution_count": 28,
   "id": "bdec5bdf",
   "metadata": {},
   "outputs": [
    {
     "name": "stdout",
     "output_type": "stream",
     "text": [
      "{'Geeks': 100, 'geek': 200, 'for': 325}\n"
     ]
    }
   ],
   "source": [
    "dict1 = {'a': 12, 'for': 25, 'c': 9}\n",
    "dict2 = {'Geeks': 100, 'geek': 200, 'for': 300}\n",
    "\n",
    "for key in dict2:\n",
    "    if key in dict1:\n",
    "        dict2[key] = dict1[key] + dict2[key]\n",
    "    else:\n",
    "        pass\n",
    "print(dict2)"
   ]
  },
  {
   "cell_type": "code",
   "execution_count": null,
   "id": "b0917c05",
   "metadata": {},
   "outputs": [],
   "source": []
  },
  {
   "cell_type": "raw",
   "id": "a31da3b3",
   "metadata": {},
   "source": [
    "Find the largest element in a list.\n",
    "Find the smallest element in a list."
   ]
  },
  {
   "cell_type": "code",
   "execution_count": 2,
   "id": "78fc997c",
   "metadata": {},
   "outputs": [
    {
     "name": "stdout",
     "output_type": "stream",
     "text": [
      "9\n",
      "1\n"
     ]
    }
   ],
   "source": [
    "li = [4,5,8,7,2,1,6,3,9]\n",
    "print(max(li))\n",
    "print(min(li))"
   ]
  },
  {
   "cell_type": "code",
   "execution_count": 4,
   "id": "64c8ad7e",
   "metadata": {},
   "outputs": [
    {
     "name": "stdout",
     "output_type": "stream",
     "text": [
      "max value is: 9\n",
      "min value is: 1\n"
     ]
    }
   ],
   "source": [
    "li = [4,5,8,7,2,1,6,3,9]\n",
    "def todo(n):\n",
    "    max_n = li[0]\n",
    "    min_n = li[0]\n",
    "    for x in li:\n",
    "        if x < min_n:\n",
    "            min_n = x\n",
    "        elif x > max_n:\n",
    "            max_n = x\n",
    "    return min_n, max_n\n",
    "print(\"max value is:\",todo(li)[1])\n",
    "print(\"min value is:\",todo(li)[0])"
   ]
  },
  {
   "cell_type": "code",
   "execution_count": null,
   "id": "63276fbb",
   "metadata": {},
   "outputs": [],
   "source": []
  },
  {
   "cell_type": "code",
   "execution_count": 2,
   "id": "ed576459",
   "metadata": {},
   "outputs": [
    {
     "name": "stdout",
     "output_type": "stream",
     "text": [
      "45 5 6 8 9\n",
      "[45, 5, 6, 8, 9]\n"
     ]
    }
   ],
   "source": [
    "hi = list(map(int,input().split()))\n",
    "print(hi)"
   ]
  },
  {
   "cell_type": "code",
   "execution_count": null,
   "id": "d8b40b74",
   "metadata": {},
   "outputs": [],
   "source": []
  },
  {
   "cell_type": "raw",
   "id": "25a39817",
   "metadata": {},
   "source": [
    "Sort a list of numbers in ascending order.\n",
    "Sort a list of strings in alphabetical order"
   ]
  },
  {
   "cell_type": "code",
   "execution_count": 4,
   "id": "40ed6a82",
   "metadata": {},
   "outputs": [
    {
     "name": "stdout",
     "output_type": "stream",
     "text": [
      "[3, 4, 5, 6, 7, 8, 9]\n"
     ]
    }
   ],
   "source": [
    "def demo(n):\n",
    "    n.sort()\n",
    "    return n\n",
    "numb = [5,6,3,4,7,8,9]\n",
    "print(demo(numb))"
   ]
  },
  {
   "cell_type": "code",
   "execution_count": 7,
   "id": "b3bfabed",
   "metadata": {},
   "outputs": [
    {
     "name": "stdout",
     "output_type": "stream",
     "text": [
      "['apple', 'banana', 'cherry', 'mango']\n"
     ]
    }
   ],
   "source": [
    "def demo(n):\n",
    "    n.sort()\n",
    "    return n\n",
    "numb = ['apple','mango','banana','cherry']\n",
    "print(demo(numb))"
   ]
  },
  {
   "cell_type": "code",
   "execution_count": null,
   "id": "bb292611",
   "metadata": {},
   "outputs": [],
   "source": []
  },
  {
   "cell_type": "raw",
   "id": "24648afa",
   "metadata": {},
   "source": [
    "Count the number of vowels in a string.\n",
    "Count the number of words in a sentence"
   ]
  },
  {
   "cell_type": "code",
   "execution_count": 15,
   "id": "89802897",
   "metadata": {},
   "outputs": [
    {
     "name": "stdout",
     "output_type": "stream",
     "text": [
      "hello\n",
      "Count of vowels are:  2\n",
      "Count of words: 1\n"
     ]
    }
   ],
   "source": [
    "enter = input()\n",
    "vowels='aeiouAEIOU'\n",
    "count = 0\n",
    "count_words = 0\n",
    "for i in enter:\n",
    "    if i in vowels:\n",
    "        count +=1 \n",
    "    count_words = len(enter.split())\n",
    "print(\"Count of vowels are: \", count)\n",
    "print(\"Count of words:\", count_words)"
   ]
  },
  {
   "cell_type": "code",
   "execution_count": null,
   "id": "86077202",
   "metadata": {},
   "outputs": [],
   "source": []
  },
  {
   "cell_type": "raw",
   "id": "a4a1ffca",
   "metadata": {},
   "source": [
    "11.\tCalculate the sum of digits in a number.\n",
    "12.\tCalculate the product of elements in a list."
   ]
  },
  {
   "cell_type": "code",
   "execution_count": 16,
   "id": "4d2ef6ae",
   "metadata": {},
   "outputs": [
    {
     "name": "stdout",
     "output_type": "stream",
     "text": [
      "123\n",
      "6\n"
     ]
    }
   ],
   "source": [
    "def hi(n):\n",
    "    return sum((int(i) for i in str(n)))\n",
    "num = input()\n",
    "print(hi(num))"
   ]
  },
  {
   "cell_type": "code",
   "execution_count": 19,
   "id": "fdd3d643",
   "metadata": {},
   "outputs": [
    {
     "name": "stdout",
     "output_type": "stream",
     "text": [
      "1 2 3 4 5 6 7 8 9 \n",
      "362880\n"
     ]
    }
   ],
   "source": [
    "def demo(num):\n",
    "    prod = 1\n",
    "    for i in num:\n",
    "        prod *= i\n",
    "    return prod\n",
    "num=list(map(int,input().split()))\n",
    "print(demo(num))"
   ]
  },
  {
   "cell_type": "code",
   "execution_count": null,
   "id": "97d6bff2",
   "metadata": {},
   "outputs": [],
   "source": []
  },
  {
   "cell_type": "raw",
   "id": "811fb7c4",
   "metadata": {},
   "source": [
    "14.\tRemove duplicate elements from a list.\n",
    "15.\tFind the second largest element in a list.\n",
    "16.\tFind the second smallest element in a list"
   ]
  },
  {
   "cell_type": "code",
   "execution_count": 21,
   "id": "dbd58851",
   "metadata": {},
   "outputs": [
    {
     "name": "stdout",
     "output_type": "stream",
     "text": [
      "[1, 2, 3, 4, 5, 6, 7, 8, 9]\n"
     ]
    }
   ],
   "source": [
    "li = [1,1,2,2,3,3,4,4,5,5,6,6,7,7,8,8,9,9]\n",
    "def hi(li):\n",
    "    return list(set(list(li)))\n",
    "print(hi(li))"
   ]
  },
  {
   "cell_type": "code",
   "execution_count": 23,
   "id": "92af9db4",
   "metadata": {},
   "outputs": [
    {
     "name": "stdout",
     "output_type": "stream",
     "text": [
      "8\n"
     ]
    }
   ],
   "source": [
    "def calc(li):\n",
    "    result = [i for i in li if i < max(li)]\n",
    "    return max(result)\n",
    "li = [2,1,3,6,5,3,4,7,8,9]\n",
    "print(calc(li))"
   ]
  },
  {
   "cell_type": "code",
   "execution_count": 26,
   "id": "a4f0909a",
   "metadata": {},
   "outputs": [
    {
     "name": "stdout",
     "output_type": "stream",
     "text": [
      "2\n"
     ]
    }
   ],
   "source": [
    "li = [1,1,2,2,3,3,4,4,5,5,6,6,7,7,8,8,9,9]\n",
    "def demo(li):\n",
    "    result = sorted(set(li))\n",
    "    if len(result)>=2:\n",
    "        return result[1]\n",
    "    else:\n",
    "        return None\n",
    "print(demo(li))"
   ]
  },
  {
   "cell_type": "raw",
   "id": "1b344570",
   "metadata": {},
   "source": [
    "Generate a random number within a range.\n",
    "Convert a string to uppercase.\n",
    "Convert a string to lowercase."
   ]
  },
  {
   "cell_type": "code",
   "execution_count": 28,
   "id": "e4186091",
   "metadata": {},
   "outputs": [
    {
     "name": "stdout",
     "output_type": "stream",
     "text": [
      "6\n"
     ]
    }
   ],
   "source": [
    "import random\n",
    "print(random.randint(1,20))"
   ]
  },
  {
   "cell_type": "code",
   "execution_count": 30,
   "id": "febbdca8",
   "metadata": {},
   "outputs": [
    {
     "name": "stdout",
     "output_type": "stream",
     "text": [
      "hello\n",
      "HELLO hello\n"
     ]
    }
   ],
   "source": [
    "enter = input()\n",
    "def calc(enter):\n",
    "    result = enter.upper()\n",
    "    result0 = enter.lower()\n",
    "    return result, result0\n",
    "\n",
    "result, result0 = calc(enter)\n",
    "print(result,result0)"
   ]
  },
  {
   "cell_type": "code",
   "execution_count": null,
   "id": "f2dbb2fd",
   "metadata": {},
   "outputs": [],
   "source": []
  },
  {
   "cell_type": "raw",
   "id": "fb7622c4",
   "metadata": {},
   "source": [
    "21.\tCalculate the area of a circle.\n",
    "22.\tCalculate the area of a rectangle.\n",
    "23.\tCalculate the area of a triangle"
   ]
  },
  {
   "cell_type": "code",
   "execution_count": 34,
   "id": "5f0f27e2",
   "metadata": {},
   "outputs": [
    {
     "name": "stdout",
     "output_type": "stream",
     "text": [
      "28.322999999999997\n",
      "24\n",
      "7.5\n"
     ]
    }
   ],
   "source": [
    "def circle(r):\n",
    "    pi = 3.147\n",
    "    result = pi * (r*r)\n",
    "    return result\n",
    "print(circle(3))\n",
    "\n",
    "def rectangle(length, width):\n",
    "    return length * width\n",
    "length = 3\n",
    "width = 8\n",
    "print(rectangle(length,width))\n",
    "\n",
    "def triangle(b,h):\n",
    "    result = 0.5 * b *h\n",
    "    return result\n",
    "b = 3\n",
    "h = 5\n",
    "print(triangle(b,h))"
   ]
  },
  {
   "cell_type": "code",
   "execution_count": null,
   "id": "bb7e9486",
   "metadata": {},
   "outputs": [],
   "source": []
  },
  {
   "cell_type": "raw",
   "id": "ab44ccb4",
   "metadata": {},
   "source": [
    "27.\tCount the number of occurrences of a character in a string.\n",
    "28.\tMerge two dictionaries.\n",
    "29.\tRemove a key from a dictionary."
   ]
  },
  {
   "cell_type": "code",
   "execution_count": 40,
   "id": "674c7dd9",
   "metadata": {},
   "outputs": [
    {
     "name": "stdout",
     "output_type": "stream",
     "text": [
      "hola\n",
      "1\n"
     ]
    }
   ],
   "source": [
    "enter = input()\n",
    "count = 0\n",
    "\n",
    "def calc(enter):\n",
    "    global count\n",
    "    for i in enter:\n",
    "        if i == 'a':\n",
    "            count += 1\n",
    "    return count\n",
    "\n",
    "res = calc(enter)\n",
    "print(res)"
   ]
  },
  {
   "cell_type": "code",
   "execution_count": 47,
   "id": "5d14ec3c",
   "metadata": {},
   "outputs": [
    {
     "name": "stdout",
     "output_type": "stream",
     "text": [
      "None\n",
      "{'d': 6, 'c': 4, 'a': 10, 'b': 8}\n"
     ]
    }
   ],
   "source": [
    "dict1 = {'a': 10, 'b': 8}\n",
    "dict2 = {'d': 6, 'c': 4}\n",
    "\n",
    "def merge(dict1,dict2):\n",
    "    return(dict2.update(dict1))\n",
    "\n",
    "print(merge(dict1,dict2))\n",
    "print(dict2)"
   ]
  },
  {
   "cell_type": "code",
   "execution_count": 42,
   "id": "1b6d833a",
   "metadata": {},
   "outputs": [
    {
     "name": "stdout",
     "output_type": "stream",
     "text": [
      "{'Arushi': 22, 'Anuradha': 21, 'Haritha': 21}\n"
     ]
    }
   ],
   "source": [
    "test_dict = {\"Arushi\": 22, \"Anuradha\": 21, \"Mani\": 21, \"Haritha\": 21}\n",
    "result = test_dict.pop('Mani')\n",
    "print(test_dict)"
   ]
  },
  {
   "cell_type": "code",
   "execution_count": null,
   "id": "d27bc9c6",
   "metadata": {},
   "outputs": [],
   "source": []
  },
  {
   "cell_type": "raw",
   "id": "9415e9f7",
   "metadata": {},
   "source": [
    "Check if two strings are anagrams."
   ]
  },
  {
   "cell_type": "code",
   "execution_count": 48,
   "id": "57f5b845",
   "metadata": {},
   "outputs": [
    {
     "name": "stdout",
     "output_type": "stream",
     "text": [
      "listen\n",
      "silent\n",
      "Its an anagram silent\n"
     ]
    }
   ],
   "source": [
    "s1=input()\n",
    "s2=input()\n",
    "def check(s1,s2):\n",
    "    if(sorted(s2)==sorted(s1)):\n",
    "        print(\"Its an anagram\", s2)\n",
    "check(s1,s2)"
   ]
  },
  {
   "cell_type": "code",
   "execution_count": null,
   "id": "095cb353",
   "metadata": {},
   "outputs": [],
   "source": []
  },
  {
   "cell_type": "raw",
   "id": "30e3264a",
   "metadata": {},
   "source": [
    "30.\tFind the length of a string.\n",
    "31.\tGenerate Fibonacci series up to n terms."
   ]
  },
  {
   "cell_type": "code",
   "execution_count": 2,
   "id": "ea013170",
   "metadata": {},
   "outputs": [
    {
     "name": "stdout",
     "output_type": "stream",
     "text": [
      "Length of Fibonaci Series is: 15\n",
      "8\n",
      "[0, 1, 1, 2, 3, 5, 8, 13]\n"
     ]
    }
   ],
   "source": [
    "def st(m):\n",
    "    return len(m)\n",
    "m = \"Fibonaci Series\"\n",
    "i = st(m)\n",
    "print(f\"Length of {m} is:\",i)\n",
    "    \n",
    "def fib(n):4\n",
    "    a,b=0,1\n",
    "    series = []\n",
    "    for i in range(n):\n",
    "        series.append(a)\n",
    "        a,b = b,a+b\n",
    "    return series\n",
    "n = int(input())\n",
    "hi = fib(n)\n",
    "print(hi)"
   ]
  },
  {
   "cell_type": "code",
   "execution_count": null,
   "id": "f9762921",
   "metadata": {},
   "outputs": [],
   "source": []
  },
  {
   "cell_type": "raw",
   "id": "ced1d775",
   "metadata": {},
   "source": [
    "Find the factorial of a large number using recursion"
   ]
  },
  {
   "cell_type": "code",
   "execution_count": 4,
   "id": "7cd31021",
   "metadata": {},
   "outputs": [
    {
     "name": "stdout",
     "output_type": "stream",
     "text": [
      "7\n",
      "The factorial of given num 7 is:  5040\n"
     ]
    }
   ],
   "source": [
    "def rec(n):\n",
    "    if n == 1:\n",
    "        return n\n",
    "    else:\n",
    "        return n * rec(n-1)\n",
    "n = int(input())\n",
    "if n < 0:\n",
    "    print(\"Enter positive num\")\n",
    "elif n == 0:\n",
    "    print(\"The fact of 0 is 1\")\n",
    "else:\n",
    "    print(f\"The factorial of given num {n} is: \", rec(n))"
   ]
  },
  {
   "cell_type": "code",
   "execution_count": null,
   "id": "f7ee9420",
   "metadata": {},
   "outputs": [],
   "source": []
  },
  {
   "cell_type": "raw",
   "id": "540576fe",
   "metadata": {},
   "source": [
    "37.\tCalculate the power of a number using recursion\n",
    "38.\tFind the sum of natural numbers up to n.(resursion)"
   ]
  },
  {
   "cell_type": "code",
   "execution_count": 5,
   "id": "9f9e5654",
   "metadata": {},
   "outputs": [
    {
     "name": "stdout",
     "output_type": "stream",
     "text": [
      "3125\n"
     ]
    }
   ],
   "source": [
    "def cal(n,p):\n",
    "    if p == 0:\n",
    "        return 1\n",
    "    else:\n",
    "        return n * cal(n,p-1)\n",
    "print(cal(5,5))"
   ]
  },
  {
   "cell_type": "code",
   "execution_count": 6,
   "id": "099b60c9",
   "metadata": {},
   "outputs": [
    {
     "name": "stdout",
     "output_type": "stream",
     "text": [
      "6\n",
      "21\n"
     ]
    }
   ],
   "source": [
    "def recusr(number):\n",
    "    if number == 0:\n",
    "        return number\n",
    "    return number + recusr(number-1)\n",
    "number = int(input())\n",
    "print(recusr(number))"
   ]
  },
  {
   "cell_type": "code",
   "execution_count": null,
   "id": "3eeb4a11",
   "metadata": {},
   "outputs": [],
   "source": []
  },
  {
   "cell_type": "markdown",
   "id": "b37bbfa3",
   "metadata": {},
   "source": [
    "39.\tCalculate the mean of elements in a list.\n",
    "40.\tCalculate the median of elements in a list."
   ]
  },
  {
   "cell_type": "code",
   "execution_count": 10,
   "id": "766395ad",
   "metadata": {},
   "outputs": [
    {
     "name": "stdout",
     "output_type": "stream",
     "text": [
      "2 4 6 8\n",
      "5.0\n"
     ]
    }
   ],
   "source": [
    "li = list(map(int,input().split()))\n",
    "average = sum(li)/len(li)\n",
    "print(average)"
   ]
  },
  {
   "cell_type": "code",
   "execution_count": 11,
   "id": "46b78372",
   "metadata": {},
   "outputs": [
    {
     "name": "stdout",
     "output_type": "stream",
     "text": [
      "Median 5\n"
     ]
    }
   ],
   "source": [
    "li = [2, 3, 5, 7, 8]\n",
    "count = len(li)\n",
    "li.sort()\n",
    "\n",
    "if count%2==0:\n",
    "    m1 = li[count//2]\n",
    "    m2 = li[count//2 - 1]\n",
    "    m = (m1+m2)/2\n",
    "else:\n",
    "    m = li[count//2]\n",
    "print(\"Median\", m)"
   ]
  },
  {
   "cell_type": "code",
   "execution_count": null,
   "id": "fc4d89c7",
   "metadata": {},
   "outputs": [],
   "source": []
  },
  {
   "cell_type": "raw",
   "id": "0e70ea61",
   "metadata": {},
   "source": [
    "Calculate the sum of all prime numbers up to a given number"
   ]
  },
  {
   "cell_type": "code",
   "execution_count": 25,
   "id": "64d23299",
   "metadata": {},
   "outputs": [
    {
     "name": "stdout",
     "output_type": "stream",
     "text": [
      "11\n",
      "2\n",
      "3\n",
      "5\n",
      "7\n",
      "17\n"
     ]
    }
   ],
   "source": [
    "n = int(input())\n",
    "sum = 0\n",
    "\n",
    "for num in range(2,n):\n",
    "    if num>1:\n",
    "        for j in range(2,num):\n",
    "            if (num%j == 0):\n",
    "                break\n",
    "        else:\n",
    "            print(num)\n",
    "            sum += num\n",
    "print(sum)"
   ]
  },
  {
   "cell_type": "code",
   "execution_count": null,
   "id": "17dab357",
   "metadata": {},
   "outputs": [],
   "source": []
  },
  {
   "cell_type": "code",
   "execution_count": null,
   "id": "719474ee",
   "metadata": {},
   "outputs": [],
   "source": []
  },
  {
   "cell_type": "code",
   "execution_count": null,
   "id": "614c6bc9",
   "metadata": {},
   "outputs": [],
   "source": []
  }
 ],
 "metadata": {
  "kernelspec": {
   "display_name": "Python 3 (ipykernel)",
   "language": "python",
   "name": "python3"
  },
  "language_info": {
   "codemirror_mode": {
    "name": "ipython",
    "version": 3
   },
   "file_extension": ".py",
   "mimetype": "text/x-python",
   "name": "python",
   "nbconvert_exporter": "python",
   "pygments_lexer": "ipython3",
   "version": "3.10.6"
  }
 },
 "nbformat": 4,
 "nbformat_minor": 5
}
